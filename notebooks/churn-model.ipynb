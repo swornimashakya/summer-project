{
 "cells": [
  {
   "cell_type": "markdown",
   "metadata": {},
   "source": [
    "### Import Libraries"
   ]
  },
  {
   "cell_type": "code",
   "execution_count": 6,
   "metadata": {},
   "outputs": [
    {
     "name": "stderr",
     "output_type": "stream",
     "text": [
      "<>:9: SyntaxWarning: invalid escape sequence '\\B'\n",
      "<>:9: SyntaxWarning: invalid escape sequence '\\B'\n",
      "C:\\Users\\sworn\\AppData\\Local\\Temp\\ipykernel_16548\\3353287297.py:9: SyntaxWarning: invalid escape sequence '\\B'\n",
      "  path = 'D:\\BIM\\Summer Project\\datasets\\cleaned_ibm_dataset.pkl'\n"
     ]
    }
   ],
   "source": [
    "import pandas as pd           # For data manipulation\n",
    "import numpy as np            # For numerical operations\n",
    "from sklearn.model_selection import train_test_split   # For splitting data into train/test sets\n",
    "from sklearn.linear_model import LogisticRegression     # For the logistic regression model\n",
    "from sklearn.ensemble import RandomForestClassifier    # For the random forest model\n",
    "from sklearn.metrics import accuracy_score              # To evaluate model performance\n",
    "\n",
    "# Load the data\n",
    "path = 'D:\\BIM\\Summer Project\\datasets\\cleaned_ibm_dataset.pkl'\n",
    "data = pd.read_pickle(path)"
   ]
  },
  {
   "cell_type": "code",
   "execution_count": 7,
   "metadata": {},
   "outputs": [
    {
     "name": "stdout",
     "output_type": "stream",
     "text": [
      "(1102, 53) (368, 53) (1102,) (368,)\n"
     ]
    }
   ],
   "source": [
    "# Split the data into features and target\n",
    "X = data.drop('Attrition', axis=1) # Input variables\n",
    "y = data['Attrition'] # Variable to predict\n",
    "\n",
    "X_train, X_test, y_train, y_test = train_test_split(X, y, test_size=0.25, random_state=41)\n",
    "print(X_train.shape, X_test.shape, y_train.shape, y_test.shape)"
   ]
  },
  {
   "cell_type": "code",
   "execution_count": 13,
   "metadata": {},
   "outputs": [
    {
     "name": "stdout",
     "output_type": "stream",
     "text": [
      "[0 0 0 0 0 0 0 0 0 0 0 0 0 0 0 0 0 0 0 0 0 0 0 0 0 0 0 0 0 0 0 0 0 0 0 0 1\n",
      " 0 0 0 0 0 0 0 0 0 0 0 0 0 0 0 0 0 0 0 0 0 0 0 0 0 0 0 0 0 0 0 0 0 0 0 0 0\n",
      " 0 0 0 0 0 0 0 0 0 0 0 0 0 0 0 0 0 0 0 0 0 0 0 0 0 0 0 0 0 0 0 0 0 0 0 0 0\n",
      " 0 0 0 0 0 0 0 0 0 0 0 0 0 0 0 0 0 0 0 0 0 0 0 0 0 0 0 0 0 0 1 0 0 0 0 0 0\n",
      " 0 0 0 0 0 0 0 0 0 0 0 0 0 0 0 0 0 0 0 0 0 0 0 0 0 0 0 0 0 0 0 0 0 0 0 0 0\n",
      " 0 0 0 0 0 0 0 0 0 0 0 0 0 0 0 0 0 0 0 0 0 0 0 0 0 0 0 0 0 0 0 0 0 0 0 0 0\n",
      " 0 0 0 0 0 0 0 0 0 0 0 0 0 0 0 0 0 1 0 0 0 0 0 0 0 1 0 0 0 0 0 0 0 0 0 0 0\n",
      " 0 0 0 0 0 0 0 0 0 0 0 0 0 0 0 0 0 0 0 0 0 0 0 0 0 1 0 0 0 0 0 0 0 0 0 0 1\n",
      " 0 0 0 0 0 0 0 0 0 0 0 0 0 0 0 0 0 0 0 0 0 0 0 0 0 0 0 0 0 0 0 0 0 0 0 0 0\n",
      " 0 0 1 0 0 0 0 0 0 0 0 0 0 0 0 0 0 0 0 0 0 0 0 0 0 0 0 0 0 0 0 0 0 0 0]\n",
      "Model accuracy: 0.87\n",
      "0.9680272108843537\n",
      "              precision    recall  f1-score   support\n",
      "\n",
      "           0       0.88      0.99      0.93       318\n",
      "           1       0.71      0.10      0.18        50\n",
      "\n",
      "    accuracy                           0.87       368\n",
      "   macro avg       0.79      0.55      0.55       368\n",
      "weighted avg       0.85      0.87      0.83       368\n",
      "\n"
     ]
    }
   ],
   "source": [
    "# Create and train the logistic regression model\n",
    "model = RandomForestClassifier(class_weight='balanced', n_estimators=100, random_state=41) # Instance of the model\n",
    "model.fit(X_train, y_train) # Train the model\n",
    "\n",
    "# Make predictions on the test set\n",
    "predictions = model.predict(X_test)\n",
    "print(predictions[:])\n",
    "\n",
    "# Evaluate the model's performance\n",
    "accuracy = accuracy_score(y_test, predictions)\n",
    "print(f'Model accuracy: {accuracy:.2f}')\n",
    "print(model.score(X, y))\n",
    "\n",
    "from sklearn.metrics import classification_report\n",
    "print(classification_report(y_test, predictions))"
   ]
  }
 ],
 "metadata": {
  "kernelspec": {
   "display_name": "Python 3",
   "language": "python",
   "name": "python3"
  },
  "language_info": {
   "codemirror_mode": {
    "name": "ipython",
    "version": 3
   },
   "file_extension": ".py",
   "mimetype": "text/x-python",
   "name": "python",
   "nbconvert_exporter": "python",
   "pygments_lexer": "ipython3",
   "version": "3.12.3"
  }
 },
 "nbformat": 4,
 "nbformat_minor": 2
}
