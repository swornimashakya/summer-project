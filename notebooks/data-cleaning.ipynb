{
 "cells": [
  {
   "cell_type": "markdown",
   "metadata": {},
   "source": [
    "### Read Dataset"
   ]
  },
  {
   "cell_type": "code",
   "execution_count": null,
   "metadata": {},
   "outputs": [
    {
     "name": "stdout",
     "output_type": "stream",
     "text": []
    },
    {
     "name": "stdout",
     "output_type": "stream",
     "text": []
    }
   ],
   "source": [
    "import numpy as np\n",
    "import pandas as pd\n",
    "import matplotlib.pyplot as plt\n",
    "\n",
    "path = 'D:\\BIM\\Summer Project\\datasets\\ibm-dataset.csv'\n",
    "# Read dataset\n",
    "df = pd.read_csv(path)\n",
    "\n",
    "pd.options.display.max_columns = None\n",
    "\n",
    "df.head()\n",
    "\n",
    "# Fix pie chart issue\n",
    "# income_counts = df['Department'].value_counts()\n",
    "# plt.pie(x=income_counts, autopct='%1.1f%%')\n",
    "# plt.show()"
   ]
  },
  {
   "cell_type": "markdown",
   "metadata": {},
   "source": [
    "### Clean Dataset"
   ]
  },
  {
   "cell_type": "code",
   "execution_count": null,
   "metadata": {},
   "outputs": [],
   "source": [
    "# Check missing values\n",
    "# print(df.columns[df.isnull().sum() > 1])\n",
    "\n",
    "# Drop missing values (apparently none)\n",
    "df = df.dropna()\n",
    "\n",
    "# Check missing values after dropping\n",
    "print(df.columns[df.isnull().sum() > 1])\n",
    "\n",
    "# Remove duplicates\n",
    "df = df.drop_duplicates()\n",
    "\n",
    "# Convert Data Types\n",
    "print(df['Age'].dtype)"
   ]
  },
  {
   "cell_type": "markdown",
   "metadata": {},
   "source": [
    "### Convert to Binary or One Hot Encoding"
   ]
  },
  {
   "cell_type": "code",
   "execution_count": null,
   "metadata": {},
   "outputs": [],
   "source": [
    "# Convert to Binary: Attrition, Gender, Over18, OverTime\n",
    "df['Attrition'] = df['Attrition'].map({'Yes': 1, 'No': 0})\n",
    "df['Gender'] = df['Gender'].map({'Male': 1, 'Female': 0})\n",
    "df['Over18'] = df['Over18'].map({'Y': 1, 'N': 0})\n",
    "df['OverTime'] = df['OverTime'].map({'Yes': 1, 'No': 0})\n",
    "\n",
    "# Convert to One Hot Encoding: BusinessTravel, Department, EducationField, JobRole, MaritalStatus, StockOptionLevel\n",
    "df = df.join(pd.get_dummies(df['BusinessTravel'])).drop('BusinessTravel', axis=1)\n",
    "df = df.join(pd.get_dummies(df['Department'], prefix='Dept')).drop('Department', axis=1)\n",
    "df = df.join(pd.get_dummies(df['EducationField'], prefix='EduField')).drop('EducationField', axis=1)\n",
    "df = df.join(pd.get_dummies(df['JobRole'], prefix='JobRole')).drop('JobRole', axis=1)\n",
    "df = df.join(pd.get_dummies(df['MaritalStatus'])).drop('MaritalStatus', axis=1)\n",
    "\n",
    "#Convert One Hot Encoding to Binary\n",
    "df = df.map(lambda x: 1 if x is True else 0 if x is False else x)\n",
    "df\n"
   ]
  },
  {
   "cell_type": "markdown",
   "metadata": {},
   "source": [
    "### Visualizing and Removing Unnecessary Columns"
   ]
  },
  {
   "cell_type": "code",
   "execution_count": null,
   "metadata": {},
   "outputs": [],
   "source": [
    "# Plot histograms to find irrelevant columns\n",
    "df.hist(figsize=(20, 15))\n",
    "plt.tight_layout()\n",
    "plt.show()"
   ]
  },
  {
   "cell_type": "code",
   "execution_count": null,
   "metadata": {},
   "outputs": [],
   "source": [
    "df.drop(['EmployeeCount', 'Over18', 'StandardHours'], axis=1)\n",
    "df"
   ]
  },
  {
   "cell_type": "markdown",
   "metadata": {},
   "source": [
    "### Save"
   ]
  },
  {
   "cell_type": "code",
   "execution_count": null,
   "metadata": {},
   "outputs": [],
   "source": [
    "# Save cleaned data as CSV\n",
    "df.to_csv('D:\\BIM\\Summer Project\\datasets\\cleaned_ibm_dataset.csv', index=False)\n",
    "\n",
    "# Save cleaned data as PKL\n",
    "df.to_pickle('D:\\BIM\\Summer Project\\datasets\\cleaned_ibm_dataset.pkl')"
   ]
  }
 ],
 "metadata": {
  "kernelspec": {
   "display_name": "Python 3",
   "language": "python",
   "name": "python3"
  },
  "language_info": {
   "codemirror_mode": {
    "name": "ipython",
    "version": 3
   },
   "file_extension": ".py",
   "mimetype": "text/x-python",
   "name": "python",
   "nbconvert_exporter": "python",
   "pygments_lexer": "ipython3",
   "version": "3.12.3"
  }
 },
 "nbformat": 4,
 "nbformat_minor": 2
}
